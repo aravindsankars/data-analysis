{
 "cells": [
  {
   "cell_type": "markdown",
   "id": "718835b2",
   "metadata": {},
   "source": [
    "# Data Preparation for TMDB and Netflix Titles"
   ]
  },
  {
   "cell_type": "markdown",
   "id": "0cb422ec",
   "metadata": {},
   "source": [
    "This notebook processes datasets from Netflix and TMDB to identify matching titles, explore statistics, and generate cleaned outputs. Each step is documented to ensure clarity and reproducibility."
   ]
  },
  {
   "cell_type": "markdown",
   "id": "a7dafcbf",
   "metadata": {},
   "source": [
    "## Pre Covid Netflix titles with TMDB\n",
    "### 1. Loading and Inspecting Datasets"
   ]
  },
  {
   "cell_type": "code",
   "execution_count": null,
   "id": "17214194",
   "metadata": {},
   "outputs": [],
   "source": [
    "import pandas as pd\n",
    "\n",
    "# Load datasets\n",
    "pre_netflix_df = pd.read_csv('netflix_titles_1.csv')\n",
    "tmdb_df = pd.read_csv('TMDB_movie_dataset_v11.csv')\n",
    "post_netflix_df = pd.read_csv('titles.csv')\n",
    "\n",
    "# Display dataset statistics\n",
    "print('Netflix dataset shape:', pre_netflix_df.shape)\n",
    "print('TMDB dataset shape:', tmdb_df.shape)\n",
    "print('Netflix dataset shape:', post_netflix_df.shape)\n",
    "\n",
    "# Display a few rows from each dataset\n",
    "pre_netflix_df.head(), tmdb_df.head(), post_netflix_df.head()"
   ]
  },
  {
   "cell_type": "markdown",
   "id": "9f985120",
   "metadata": {},
   "source": [
    "### 2. Data Cleaning and Transformation"
   ]
  },
  {
   "cell_type": "code",
   "execution_count": null,
   "id": "90a710b1",
   "metadata": {},
   "outputs": [],
   "source": [
    "# Standardize title case to lowercase for comparison\n",
    "pre_netflix_df['title_lower'] = pre_netflix_df['title'].str.lower()\n",
    "tmdb_df['title_lower'] = tmdb_df['title'].str.lower()\n",
    "post_netflix_df['title_lower'] = post_netflix_df['title'].str.lower()\n",
    "\n",
    "# Drop duplicates in datasets\n",
    "pre_netflix_df = pre_netflix_df.drop_duplicates(subset=['title_lower'])\n",
    "tmdb_df = tmdb_df.drop_duplicates(subset=['title_lower'])\n",
    "post_netflix_df = post_netflix_df.drop_duplicates(subset=['title_lower'])\n",
    "print('Duplicates removed from datasets.')"
   ]
  },
  {
   "cell_type": "markdown",
   "id": "852697b6",
   "metadata": {},
   "source": [
    "### 3. Merging Datasets"
   ]
  },
  {
   "cell_type": "code",
   "execution_count": null,
   "id": "b7fb728c",
   "metadata": {},
   "outputs": [],
   "source": [
    "# Merge datasets on standardized title\n",
    "pre_merged_df = pd.merge(pre_netflix_df, tmdb_df, on='title_lower', how='inner')\n",
    "\n",
    "# Filter post-COVID titles (release year >= 2020)\n",
    "post_merged_df = post_netflix_df[post_netflix_df['release_year'] >= 2020]\n",
    "post_merged_df = pd.merge(post_netflix_df, tmdb_df, on='title_lower', how='inner')\n",
    "\n",
    "# Save pre merged dataset\n",
    "pre_merged_df.to_csv('filtered_titles.csv', index=False)\n",
    "# Save post-COVID merged dataset\n",
    "post_merged_df.to_csv('post_matching_titles.csv', index=False)\n",
    "\n",
    "print(f'Pre-COVID Merged dataset shape: {merged_df.shape}')\n",
    "print(f'Post-COVID merged dataset shape: {merged_post_covid.shape}')"
   ]
  },
  {
   "cell_type": "markdown",
   "id": "19d94399",
   "metadata": {},
   "source": [
    "### 5. Statistics and Identifying Common Titles"
   ]
  },
  {
   "cell_type": "code",
   "execution_count": null,
   "id": "2259daea",
   "metadata": {},
   "outputs": [],
   "source": [
    "# Load pre- and post-COVID datasets\n",
    "filtered_df = pd.read_csv('filtered_titles.csv')\n",
    "post_matching_df = pd.read_csv('post_matching_titles.csv')\n",
    "\n",
    "# Find common titles between datasets\n",
    "common_titles = pd.merge(filtered_df, post_matching_df, on='title_lower', how='inner')\n",
    "\n",
    "# Save common and remaining titles\n",
    "common_titles.to_csv('common_titles.csv', index=False)\n",
    "filtered_remaining = filtered_df[~filtered_df['title_lower'].isin(common_titles['title_lower'])]\n",
    "post_matching_remaining = post_matching_df[~post_matching_df['title_lower'].isin(common_titles['title_lower'])]\n",
    "\n",
    "filtered_remaining.to_csv('filtered_remaining.csv', index=False)\n",
    "post_matching_remaining.to_csv('post_matching_remaining.csv', index=False)\n",
    "\n",
    "print(f'Number of common titles: {common_titles.shape[0]}')"
   ]
  },
  {
   "cell_type": "markdown",
   "id": "e711e0b5-e1ab-4166-b781-d0aa5c26be00",
   "metadata": {},
   "source": [
    "In this notebook, we successfully prepared and processed two datasets—Netflix and TMDB—to identify common movie titles and explore post-COVID trends. The key steps involved were:\n",
    "\n",
    "Data Loading and Inspection: Reviewed and summarized the datasets, providing an overview of their structure and content.\n",
    "Data Cleaning and Transformation: Standardized titles, removed duplicates, and ensured consistency for reliable comparisons.\n",
    "Merging and Filtering: Merged datasets based on movie titles and applied filters to focus on specific timeframes, such as post-COVID releases.\n",
    "Analysis and Output: Generated key statistics, identified overlaps between datasets, and exported the cleaned and filtered datasets for further analysis.\n",
    "This process not only streamlined the data for easier use but also highlighted important patterns, such as trends in movie releases and shared titles between platforms."
   ]
  },
  {
   "cell_type": "code",
   "execution_count": null,
   "id": "5ccbdc5e-f4d6-4fe1-8fb9-be73adf21506",
   "metadata": {},
   "outputs": [],
   "source": []
  }
 ],
 "metadata": {
  "kernelspec": {
   "display_name": "Python 3 (ipykernel)",
   "language": "python",
   "name": "python3"
  },
  "language_info": {
   "codemirror_mode": {
    "name": "ipython",
    "version": 3
   },
   "file_extension": ".py",
   "mimetype": "text/x-python",
   "name": "python",
   "nbconvert_exporter": "python",
   "pygments_lexer": "ipython3",
   "version": "3.12.4"
  }
 },
 "nbformat": 4,
 "nbformat_minor": 5
}
